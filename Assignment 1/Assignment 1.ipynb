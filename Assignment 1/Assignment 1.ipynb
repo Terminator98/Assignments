{
 "cells": [
  {
   "cell_type": "markdown",
   "metadata": {},
   "source": [
    "# Assignment 1 solution"
   ]
  },
  {
   "cell_type": "markdown",
   "metadata": {},
   "source": [
    "### 1- Convert Decimal numbers to binary\n",
    "- 5\n",
    "- 4\n",
    "- 31\n",
    "- 112\n",
    "- 255"
   ]
  },
  {
   "cell_type": "markdown",
   "metadata": {},
   "source": [
    "## Solution:\n",
    "|       |     128     |      64 |   32   | 16   | 8   | 4  | 2    | 1  |\n",
    "|-------|-------------|---------|--------|------|-----|----|------|----|\n",
    "|   5   |      0      |      0  |   0    |  0   | 0   | 1  | 0    | 1  |\n",
    "|   4   |      0      |      0  |   0    |  0   | 0   | 1  | 0    | 0  |\n",
    "|   31  |      0      |      0  |   0    |  1   | 1   | 1  | 1    | 1  |\n",
    "|   112 |      0      |      1  |   1    |  1   | 0   | 0  | 0    | 0  |\n",
    "|   255 |      1      |      1  |   1    |  1   | 1   | 1  | 1    | 1  |"
   ]
  },
  {
   "cell_type": "markdown",
   "metadata": {},
   "source": [
    "## 2- Convert Binary bumbers to Decimal\n",
    "\n",
    "- 11110001\n",
    "- 11001010\n",
    "- 11111111\n",
    "- 00011100"
   ]
  },
  {
   "cell_type": "markdown",
   "metadata": {},
   "source": [
    "## Solution\n",
    "|     128     |      64     |   32    | 16     | 8    | 4   | 2  | 1  |Decimal|\n",
    "|-------------|-------------|---------|--------|------|-----|----|----|-------|\n",
    "|      1      |       1     |    1    |  1     | 0    | 0   | 0  | 1  |   241 |\n",
    "|      1      |       1     |    0    |  0     | 1    | 0   | 1  | 0  |   202 |\n",
    "|      1      |       1     |    1    |  1     | 1    | 1   | 1  | 1  |   255 |\n",
    "|      0      |       0     |    0    |  1     | 1    | 1   | 0  | 0  |   28  |"
   ]
  },
  {
   "cell_type": "markdown",
   "metadata": {},
   "source": [
    "## 3- Convert this text to binary\n",
    "\n",
    "- Hello \n",
    "- Python"
   ]
  },
  {
   "cell_type": "markdown",
   "metadata": {},
   "source": [
    "## Solution\n",
    "### to solve this question we should convert each letter to its ASCII code\n",
    "- Hello = 01001000 01100101 01101100 01101100 01101111\n",
    "- Python = 01010000 01111001 01110100 01101000 01101111 01101110"
   ]
  },
  {
   "cell_type": "markdown",
   "metadata": {},
   "source": [
    "## 4- convert this binary to text\n",
    "\n",
    "- 01011001 01101111 1110101\n",
    "- 01000100 01101001 1100100\n",
    "- 01000111 01101111 1101111 1100100\n",
    "- 01001010 01101111 1100010"
   ]
  },
  {
   "cell_type": "markdown",
   "metadata": {},
   "source": [
    "## Solution\n",
    "### in order to solve this question we revert the previous solution by converting the ASCII code to letters \n",
    "- 01011001 01101111 1110101          = You\n",
    "- 01000100 01101001 1100100          = Did\n",
    "- 01000111 01101111 1101111 1100100  = Good\n",
    "- 01001010 01101111 1100010          = Job"
   ]
  }
 ],
 "metadata": {
  "kernelspec": {
   "display_name": "Python 3",
   "language": "python",
   "name": "python3"
  },
  "language_info": {
   "codemirror_mode": {
    "name": "ipython",
    "version": 3
   },
   "file_extension": ".py",
   "mimetype": "text/x-python",
   "name": "python",
   "nbconvert_exporter": "python",
   "pygments_lexer": "ipython3",
   "version": "3.8.3"
  }
 },
 "nbformat": 4,
 "nbformat_minor": 4
}
