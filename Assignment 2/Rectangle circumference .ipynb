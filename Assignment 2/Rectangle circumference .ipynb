{
 "cells": [
  {
   "cell_type": "markdown",
   "metadata": {},
   "source": [
    "# Rectangle Circumference\n",
    "## Name : Mohammad Ashraf"
   ]
  },
  {
   "cell_type": "code",
   "execution_count": 1,
   "metadata": {},
   "outputs": [
    {
     "name": "stdout",
     "output_type": "stream",
     "text": [
      "Please enter the length: 10\n",
      "Please enter the width: 20\n"
     ]
    }
   ],
   "source": [
    "# Reading the length and width from the user\n",
    "length = float(input(\"Please enter the length: \"))\n",
    "width = float(input(\"Please enter the width: \"))"
   ]
  },
  {
   "cell_type": "code",
   "execution_count": 2,
   "metadata": {},
   "outputs": [],
   "source": [
    "# Estimating the circumference alogrithm\n",
    "circumference = (length + width) * 2"
   ]
  },
  {
   "cell_type": "code",
   "execution_count": 3,
   "metadata": {},
   "outputs": [
    {
     "name": "stdout",
     "output_type": "stream",
     "text": [
      "The circumference = 60.00000\n"
     ]
    }
   ],
   "source": [
    "# Showing the result to the user\n",
    "print(\"The circumference = {:.5f}\".format(circumference))"
   ]
  }
 ],
 "metadata": {
  "kernelspec": {
   "display_name": "Python 3",
   "language": "python",
   "name": "python3"
  },
  "language_info": {
   "codemirror_mode": {
    "name": "ipython",
    "version": 3
   },
   "file_extension": ".py",
   "mimetype": "text/x-python",
   "name": "python",
   "nbconvert_exporter": "python",
   "pygments_lexer": "ipython3",
   "version": "3.8.3"
  }
 },
 "nbformat": 4,
 "nbformat_minor": 4
}
