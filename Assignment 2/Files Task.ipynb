{
 "cells": [
  {
   "cell_type": "markdown",
   "metadata": {},
   "source": [
    "# File Task\n",
    "## Name : Mohammad Ashraf"
   ]
  },
  {
   "cell_type": "code",
   "execution_count": 5,
   "metadata": {},
   "outputs": [
    {
     "name": "stdout",
     "output_type": "stream",
     "text": [
      "hello world\n",
      "hello world\n",
      "hello world\n",
      "hello world\n",
      "hello world\n",
      "\n"
     ]
    }
   ],
   "source": [
    "my_file = open('test.txt','w+')\n",
    "my_file.write(\"hello world\\n\" * 5)\n",
    "my_file.seek(0)\n",
    "print(my_file.read())\n",
    "my_file.close()"
   ]
  },
  {
   "cell_type": "code",
   "execution_count": 2,
   "metadata": {},
   "outputs": [
    {
     "name": "stdout",
     "output_type": "stream",
     "text": [
      "HELLO WORLD\n",
      "HELLO WORLD\n",
      "HELLO WORLD\n",
      "HELLO WORLD\n",
      "HELLO WORLD\n",
      "\n"
     ]
    }
   ],
   "source": [
    "my_file = open('test.txt','r')\n",
    "text = my_file.read()\n",
    "my_file.close()\n",
    "\n",
    "my_file = open('test.txt','w')\n",
    "my_file.write(text.upper())\n",
    "my_file.close()\n",
    "print(text.upper())"
   ]
  },
  {
   "cell_type": "code",
   "execution_count": 6,
   "metadata": {},
   "outputs": [
    {
     "name": "stdout",
     "output_type": "stream",
     "text": [
      "['hello world\\n', 'hello world\\n', 'Hello world\\n', 'hello world\\n', 'hello world\\n']\n"
     ]
    }
   ],
   "source": [
    "my_file = open('test.txt','r')\n",
    "my_file.seek(0)\n",
    "read = my_file.readlines()\n",
    "read[2]\n",
    "read[2] = read[2].capitalize()\n",
    "my_file = open('test.txt','w')\n",
    "my_file.writelines(read)\n",
    "print(read)\n",
    "my_file.close()"
   ]
  },
  {
   "cell_type": "code",
   "execution_count": 9,
   "metadata": {},
   "outputs": [],
   "source": [
    "with open('test.txt','a') as my_file:\n",
    "    my_file.write(\"I Love Python\\n\")"
   ]
  }
 ],
 "metadata": {
  "kernelspec": {
   "display_name": "Python 3",
   "language": "python",
   "name": "python3"
  },
  "language_info": {
   "codemirror_mode": {
    "name": "ipython",
    "version": 3
   },
   "file_extension": ".py",
   "mimetype": "text/x-python",
   "name": "python",
   "nbconvert_exporter": "python",
   "pygments_lexer": "ipython3",
   "version": "3.8.3"
  }
 },
 "nbformat": 4,
 "nbformat_minor": 4
}
