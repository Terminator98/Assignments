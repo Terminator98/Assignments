{
 "cells": [
  {
   "cell_type": "markdown",
   "metadata": {},
   "source": [
    "## Solving some python examples"
   ]
  },
  {
   "cell_type": "markdown",
   "metadata": {},
   "source": [
    "## 1. Python Program to Print all Prime Numbers in an Interval"
   ]
  },
  {
   "cell_type": "code",
   "execution_count": 1,
   "metadata": {},
   "outputs": [
    {
     "name": "stdout",
     "output_type": "stream",
     "text": [
      "Please enter the start of the interval : 2\n",
      "Please enter the end of the interval : 17\n"
     ]
    }
   ],
   "source": [
    "start = int(input(\"Please enter the start of the interval : \"))\n",
    "end = int(input(\"Please enter the end of the interval : \"))"
   ]
  },
  {
   "cell_type": "code",
   "execution_count": 2,
   "metadata": {},
   "outputs": [
    {
     "name": "stdout",
     "output_type": "stream",
     "text": [
      "The prime numbers between 2 and 17 are : \n",
      "2\n",
      "3\n",
      "5\n",
      "7\n",
      "11\n",
      "13\n",
      "17\n"
     ]
    }
   ],
   "source": [
    "print(f'The prime numbers between {start} and {end} are : ')\n",
    "for num in range(start, end + 1):\n",
    "    if num > 1:\n",
    "        for i in range(2, num) : \n",
    "            if num % i == 0:\n",
    "                break\n",
    "        else:\n",
    "            print(num)"
   ]
  },
  {
   "cell_type": "markdown",
   "metadata": {},
   "source": [
    "## 2. Python Program to Check Armstrong Number"
   ]
  },
  {
   "cell_type": "code",
   "execution_count": 3,
   "metadata": {},
   "outputs": [
    {
     "name": "stdout",
     "output_type": "stream",
     "text": [
      "Please enter the number to check whether it's Armstrong number or not : 617\n"
     ]
    }
   ],
   "source": [
    "num = int(input(\"Please enter the number to check whether it's Armstrong number or not : \"))"
   ]
  },
  {
   "cell_type": "code",
   "execution_count": 4,
   "metadata": {},
   "outputs": [
    {
     "name": "stdout",
     "output_type": "stream",
     "text": [
      "617 is not an Armstrong number :( \n"
     ]
    }
   ],
   "source": [
    "order = len(str(num))\n",
    "Sum = 0\n",
    "mock = num\n",
    "while mock > 0:\n",
    "    Sum += (mock % 10) ** order\n",
    "    mock //= 10\n",
    "    \n",
    "if Sum == num:\n",
    "    print(f'{num} is an Armstrong number :) ')\n",
    "else:\n",
    "    print(f'{num} is not an Armstrong number :( ')"
   ]
  },
  {
   "cell_type": "markdown",
   "metadata": {},
   "source": [
    "## 3. Python Program to Find Sum of Natural Numbers Using Recursion"
   ]
  },
  {
   "cell_type": "code",
   "execution_count": 5,
   "metadata": {},
   "outputs": [
    {
     "name": "stdout",
     "output_type": "stream",
     "text": [
      "Please enter the number to get its sum : 15\n"
     ]
    }
   ],
   "source": [
    "num = int(input(\"Please enter the number to get its sum : \"))"
   ]
  },
  {
   "cell_type": "code",
   "execution_count": 6,
   "metadata": {},
   "outputs": [
    {
     "name": "stdout",
     "output_type": "stream",
     "text": [
      "The sum of 15 is 120\n"
     ]
    }
   ],
   "source": [
    "def num_sum(n):\n",
    "    if n > 1:\n",
    "        return n + num_sum(n-1)\n",
    "    else:\n",
    "        return n\n",
    "\n",
    "print(f'The sum of {num} is {num_sum(num)}')"
   ]
  },
  {
   "cell_type": "markdown",
   "metadata": {},
   "source": [
    "## 4. Python Program to Convert Decimal to Binary Using Recursion"
   ]
  },
  {
   "cell_type": "code",
   "execution_count": 7,
   "metadata": {},
   "outputs": [
    {
     "name": "stdout",
     "output_type": "stream",
     "text": [
      "Please enter a deciaml number to convert it to binary : 19\n"
     ]
    }
   ],
   "source": [
    "num = int(input(\"Please enter a deciaml number to convert it to binary : \"))"
   ]
  },
  {
   "cell_type": "code",
   "execution_count": 8,
   "metadata": {},
   "outputs": [
    {
     "name": "stdout",
     "output_type": "stream",
     "text": [
      "10011"
     ]
    }
   ],
   "source": [
    "def dec_to_bin(n):\n",
    "    if n > 1:\n",
    "        dec_to_bin(n//2)\n",
    "    print(n %2 , end='')\n",
    "dec_to_bin(num)"
   ]
  },
  {
   "cell_type": "markdown",
   "metadata": {},
   "source": [
    "## 5. Python Program to Make a Simple Calculator"
   ]
  },
  {
   "cell_type": "code",
   "execution_count": 9,
   "metadata": {},
   "outputs": [
    {
     "name": "stdout",
     "output_type": "stream",
     "text": [
      "Please pick a choice from below\n",
      "    1. Addition\n",
      "    2. Subtraction\n",
      "    3. Multiplication\n",
      "    4. Division\n",
      "    5. Modulus\n",
      "    6. Exit \t3\n",
      "Please enter the first number: 6\n",
      "Please enter the second number: 15\n",
      "6.0 * 15.0 = 90.0\n",
      "Please pick a choice from below\n",
      "    1. Addition\n",
      "    2. Subtraction\n",
      "    3. Multiplication\n",
      "    4. Division\n",
      "    5. Modulus\n",
      "    6. Exit \t6\n",
      "Glad to see you around :)\n"
     ]
    }
   ],
   "source": [
    "def add():\n",
    "    n1 = float(input(\"Please enter the first number: \"))\n",
    "    n2 = float(input(\"Please enter the second number: \"))\n",
    "    print (f'{n1} + {n2} = {n1 + n2}')\n",
    "\n",
    "def sub():\n",
    "    n1 = float(input(\"Please enter the first number: \"))\n",
    "    n2 = float(input(\"Please enter the second number: \"))\n",
    "    print (f'{n1} - {n2} = {n1 - n2}')\n",
    "\n",
    "def mul():\n",
    "    n1 = float(input(\"Please enter the first number: \"))\n",
    "    n2 = float(input(\"Please enter the second number: \"))\n",
    "    print (f'{n1} * {n2} = {n1 * n2}')\n",
    "\n",
    "def div():\n",
    "    n1 = float(input(\"Please enter the first number: \"))\n",
    "    n2 = float(input(\"Please enter the second number: \"))\n",
    "    print (f'{n1} / {n2} = {n1 / n2}')\n",
    "\n",
    "def mod():\n",
    "    n1 = float(input(\"Please enter the first number: \"))\n",
    "    n2 = float(input(\"Please enter the second number: \"))\n",
    "    print (f'{n1} % {n2} = {n1 % n2}')\n",
    "\n",
    "while True:\n",
    "    choice = input(\"\"\"Please pick a choice from below\n",
    "    1. Addition\n",
    "    2. Subtraction\n",
    "    3. Multiplication\n",
    "    4. Division\n",
    "    5. Modulus\n",
    "    6. Exit \\t\"\"\")\n",
    "\n",
    "    if choice == '1':\n",
    "        add()\n",
    "    elif choice == '2':\n",
    "        sub()\n",
    "    elif choice == '3':\n",
    "        mul()\n",
    "    elif choice == '4':\n",
    "        div()\n",
    "    elif choice == '5':\n",
    "        mod()\n",
    "    elif choice == '6':\n",
    "        print(\"Glad to see you around :)\")\n",
    "        break\n",
    "    else:\n",
    "        print(\"\\nInvalid option :(\")"
   ]
  }
 ],
 "metadata": {
  "kernelspec": {
   "display_name": "Python 3",
   "language": "python",
   "name": "python3"
  },
  "language_info": {
   "codemirror_mode": {
    "name": "ipython",
    "version": 3
   },
   "file_extension": ".py",
   "mimetype": "text/x-python",
   "name": "python",
   "nbconvert_exporter": "python",
   "pygments_lexer": "ipython3",
   "version": "3.8.3"
  }
 },
 "nbformat": 4,
 "nbformat_minor": 4
}
