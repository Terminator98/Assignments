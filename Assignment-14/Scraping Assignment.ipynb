{
 "cells": [
  {
   "cell_type": "markdown",
   "metadata": {},
   "source": [
    "<strong>Assignment\n",
    "Consume this REST WEB SERVICE API: https://gorest.co.in/public-api/users?_format=json&access-token=H4lYmIGLXZkDlpy_w0ZVS5rgcpDXbN7fhRRy <br>\n",
    "Make database to save the data and run some SQL on it \n",
    "then make a csv file make some analysis on them using pandas\n",
    "</strong>"
   ]
  },
  {
   "cell_type": "code",
   "execution_count": 1,
   "metadata": {},
   "outputs": [],
   "source": [
    "import requests\n",
    "import json\n",
    "import sqlite3\n",
    "import pandas as pd\n",
    "import seaborn as sns\n",
    "import warnings\n",
    "\n",
    "warnings.filterwarnings('ignore')\n",
    "sns.set(rc={'figure.figsize':(8,8)},font_scale=1.2)\n",
    "sns.set_palette('viridis')"
   ]
  },
  {
   "cell_type": "code",
   "execution_count": 2,
   "metadata": {},
   "outputs": [
    {
     "data": {
      "text/plain": [
       "<Response [200]>"
      ]
     },
     "execution_count": 2,
     "metadata": {},
     "output_type": "execute_result"
    }
   ],
   "source": [
    "response = requests.get('https://gorest.co.in/public-api/users?_format=json&access-token=H4lYmIGLXZkDlpy_w0ZVS5rgcpDXbN7fhRRy')\n",
    "response"
   ]
  },
  {
   "cell_type": "code",
   "execution_count": 3,
   "metadata": {},
   "outputs": [],
   "source": [
    "res = response.text"
   ]
  },
  {
   "cell_type": "code",
   "execution_count": 4,
   "metadata": {},
   "outputs": [
    {
     "data": {
      "text/plain": [
       "{'code': 200,\n",
       " 'meta': {'pagination': {'total': 1829, 'pages': 92, 'page': 1, 'limit': 20}},\n",
       " 'data': [{'id': 2143,\n",
       "   'name': 'Rahul',\n",
       "   'email': 'docema165sun4o613@gmail.com',\n",
       "   'gender': 'male',\n",
       "   'status': 'active'},\n",
       "  {'id': 2144,\n",
       "   'name': 'Miguel Pepito',\n",
       "   'email': 'testertester1@tester.com',\n",
       "   'gender': 'male',\n",
       "   'status': 'active'},\n",
       "  {'id': 2152,\n",
       "   'name': 'Miguel Pepito',\n",
       "   'email': 'testerSP@tester.com',\n",
       "   'gender': 'male',\n",
       "   'status': 'active'},\n",
       "  {'id': 2162,\n",
       "   'name': 'Miguel Pepito',\n",
       "   'email': 'teesterSP@testerSP.com',\n",
       "   'gender': 'male',\n",
       "   'status': 'active'},\n",
       "  {'id': 2166,\n",
       "   'name': 'Usuario PicPay',\n",
       "   'email': 'AA54usuario01@teste.com',\n",
       "   'gender': 'male',\n",
       "   'status': 'active'},\n",
       "  {'id': 54,\n",
       "   'name': 'Bhagavaan Dhawan',\n",
       "   'email': 'dhawan_bhagavaan@miller-doyle.name',\n",
       "   'gender': 'female',\n",
       "   'status': 'active'},\n",
       "  {'id': 56,\n",
       "   'name': 'Divaakar Dutta',\n",
       "   'email': 'dutta_divaakar@dach.name',\n",
       "   'gender': 'male',\n",
       "   'status': 'active'},\n",
       "  {'id': 58,\n",
       "   'name': 'Bhavani Tandon',\n",
       "   'email': 'tandon_bhavani@weissnat-medhurst.net',\n",
       "   'gender': 'male',\n",
       "   'status': 'inactive'},\n",
       "  {'id': 59,\n",
       "   'name': 'Ms. Aaditya Gowda',\n",
       "   'email': 'aaditya_ms_gowda@boehm-hessel.net',\n",
       "   'gender': 'female',\n",
       "   'status': 'active'},\n",
       "  {'id': 60,\n",
       "   'name': 'Mohini Embranthiri',\n",
       "   'email': 'mohini_embranthiri@mckenzie-johns.info',\n",
       "   'gender': 'male',\n",
       "   'status': 'inactive'},\n",
       "  {'id': 61,\n",
       "   'name': 'Shashi Desai',\n",
       "   'email': 'desai_shashi@herzog-zulauf.net',\n",
       "   'gender': 'female',\n",
       "   'status': 'inactive'},\n",
       "  {'id': 2173,\n",
       "   'name': 'Miguel Pepito',\n",
       "   'email': 'terSP@testerSP.com',\n",
       "   'gender': 'male',\n",
       "   'status': 'active'},\n",
       "  {'id': 63,\n",
       "   'name': 'Amrita Shukla',\n",
       "   'email': 'amrita_shukla@welch.biz',\n",
       "   'gender': 'female',\n",
       "   'status': 'active'},\n",
       "  {'id': 64,\n",
       "   'name': 'Bheeshma Saini',\n",
       "   'email': 'saini_bheeshma@jaskolski.org',\n",
       "   'gender': 'male',\n",
       "   'status': 'inactive'},\n",
       "  {'id': 65,\n",
       "   'name': 'Subodh Kakkar',\n",
       "   'email': 'kakkar_subodh@beatty.name',\n",
       "   'gender': 'female',\n",
       "   'status': 'active'},\n",
       "  {'id': 66,\n",
       "   'name': 'Bhoopati Dwivedi',\n",
       "   'email': 'bhoopati_dwivedi@windler.com',\n",
       "   'gender': 'male',\n",
       "   'status': 'inactive'},\n",
       "  {'id': 67,\n",
       "   'name': 'Rameshwar Achari',\n",
       "   'email': 'achari_rameshwar@wehner-runolfsdottir.co',\n",
       "   'gender': 'male',\n",
       "   'status': 'inactive'},\n",
       "  {'id': 68,\n",
       "   'name': 'Bhoopat Banerjee',\n",
       "   'email': 'banerjee_bhoopat@mohr.info',\n",
       "   'gender': 'female',\n",
       "   'status': 'active'},\n",
       "  {'id': 69,\n",
       "   'name': 'Amrita Dutta',\n",
       "   'email': 'amrita_dutta@kris-berge.com',\n",
       "   'gender': 'female',\n",
       "   'status': 'inactive'},\n",
       "  {'id': 70,\n",
       "   'name': 'Damayanti Bharadwaj',\n",
       "   'email': 'bharadwaj_damayanti@pfeffer-schoen.net',\n",
       "   'gender': 'male',\n",
       "   'status': 'active'}]}"
      ]
     },
     "execution_count": 4,
     "metadata": {},
     "output_type": "execute_result"
    }
   ],
   "source": [
    "res_dict = json.loads(res)\n",
    "res_dict"
   ]
  },
  {
   "cell_type": "code",
   "execution_count": 5,
   "metadata": {},
   "outputs": [
    {
     "name": "stdout",
     "output_type": "stream",
     "text": [
      "[2143, 'Rahul', 'docema165sun4o613@gmail.com', 'active']\n",
      "[2144, 'Miguel Pepito', 'testertester1@tester.com', 'active']\n",
      "[2152, 'Miguel Pepito', 'testerSP@tester.com', 'active']\n",
      "[2162, 'Miguel Pepito', 'teesterSP@testerSP.com', 'active']\n",
      "[2166, 'Usuario PicPay', 'AA54usuario01@teste.com', 'active']\n",
      "[54, 'Bhagavaan Dhawan', 'dhawan_bhagavaan@miller-doyle.name', 'active']\n",
      "[56, 'Divaakar Dutta', 'dutta_divaakar@dach.name', 'active']\n",
      "[58, 'Bhavani Tandon', 'tandon_bhavani@weissnat-medhurst.net', 'inactive']\n",
      "[59, 'Ms. Aaditya Gowda', 'aaditya_ms_gowda@boehm-hessel.net', 'active']\n",
      "[60, 'Mohini Embranthiri', 'mohini_embranthiri@mckenzie-johns.info', 'inactive']\n",
      "[61, 'Shashi Desai', 'desai_shashi@herzog-zulauf.net', 'inactive']\n",
      "[2173, 'Miguel Pepito', 'terSP@testerSP.com', 'active']\n",
      "[63, 'Amrita Shukla', 'amrita_shukla@welch.biz', 'active']\n",
      "[64, 'Bheeshma Saini', 'saini_bheeshma@jaskolski.org', 'inactive']\n",
      "[65, 'Subodh Kakkar', 'kakkar_subodh@beatty.name', 'active']\n",
      "[66, 'Bhoopati Dwivedi', 'bhoopati_dwivedi@windler.com', 'inactive']\n",
      "[67, 'Rameshwar Achari', 'achari_rameshwar@wehner-runolfsdottir.co', 'inactive']\n",
      "[68, 'Bhoopat Banerjee', 'banerjee_bhoopat@mohr.info', 'active']\n",
      "[69, 'Amrita Dutta', 'amrita_dutta@kris-berge.com', 'inactive']\n",
      "[70, 'Damayanti Bharadwaj', 'bharadwaj_damayanti@pfeffer-schoen.net', 'active']\n"
     ]
    }
   ],
   "source": [
    "for i, data in enumerate(res_dict['data']):\n",
    "    ID = data['id']\n",
    "    name = data['name']\n",
    "    email = data['email']\n",
    "    status = data['status']\n",
    "    \n",
    "    \n",
    "    datas = [ID,name,email,status]\n",
    "    print(datas)"
   ]
  },
  {
   "cell_type": "code",
   "execution_count": 8,
   "metadata": {},
   "outputs": [],
   "source": [
    "connection = sqlite3.connect('customers.db')\n",
    "sql_comm = ('INSERT INTO customers (ID,Name,Email,Gender,Status) VALUES (?,?,?,?,?)')\n",
    "\n",
    "for i, data in enumerate(res_dict['data']):\n",
    "    ID = data['id']\n",
    "    name = data['name']\n",
    "    email = data['email']\n",
    "    gender = data['gender']\n",
    "    status = data['status']\n",
    "    \n",
    "    \n",
    "    datas = [ID,name,email,gender,status]\n",
    "    connection.execute(sql_comm,datas)\n",
    "    connection.commit()\n",
    "\n",
    "connection.close()"
   ]
  },
  {
   "cell_type": "code",
   "execution_count": 9,
   "metadata": {},
   "outputs": [
    {
     "data": {
      "text/html": [
       "<div>\n",
       "<style scoped>\n",
       "    .dataframe tbody tr th:only-of-type {\n",
       "        vertical-align: middle;\n",
       "    }\n",
       "\n",
       "    .dataframe tbody tr th {\n",
       "        vertical-align: top;\n",
       "    }\n",
       "\n",
       "    .dataframe thead th {\n",
       "        text-align: right;\n",
       "    }\n",
       "</style>\n",
       "<table border=\"1\" class=\"dataframe\">\n",
       "  <thead>\n",
       "    <tr style=\"text-align: right;\">\n",
       "      <th></th>\n",
       "      <th>id</th>\n",
       "      <th>name</th>\n",
       "      <th>email</th>\n",
       "      <th>gender</th>\n",
       "      <th>status</th>\n",
       "    </tr>\n",
       "  </thead>\n",
       "  <tbody>\n",
       "    <tr>\n",
       "      <th>0</th>\n",
       "      <td>2143</td>\n",
       "      <td>Rahul</td>\n",
       "      <td>docema165sun4o613@gmail.com</td>\n",
       "      <td>male</td>\n",
       "      <td>active</td>\n",
       "    </tr>\n",
       "    <tr>\n",
       "      <th>1</th>\n",
       "      <td>2144</td>\n",
       "      <td>Miguel Pepito</td>\n",
       "      <td>testertester1@tester.com</td>\n",
       "      <td>male</td>\n",
       "      <td>active</td>\n",
       "    </tr>\n",
       "    <tr>\n",
       "      <th>2</th>\n",
       "      <td>2152</td>\n",
       "      <td>Miguel Pepito</td>\n",
       "      <td>testerSP@tester.com</td>\n",
       "      <td>male</td>\n",
       "      <td>active</td>\n",
       "    </tr>\n",
       "    <tr>\n",
       "      <th>3</th>\n",
       "      <td>2162</td>\n",
       "      <td>Miguel Pepito</td>\n",
       "      <td>teesterSP@testerSP.com</td>\n",
       "      <td>male</td>\n",
       "      <td>active</td>\n",
       "    </tr>\n",
       "    <tr>\n",
       "      <th>4</th>\n",
       "      <td>2166</td>\n",
       "      <td>Usuario PicPay</td>\n",
       "      <td>AA54usuario01@teste.com</td>\n",
       "      <td>male</td>\n",
       "      <td>active</td>\n",
       "    </tr>\n",
       "    <tr>\n",
       "      <th>5</th>\n",
       "      <td>54</td>\n",
       "      <td>Bhagavaan Dhawan</td>\n",
       "      <td>dhawan_bhagavaan@miller-doyle.name</td>\n",
       "      <td>female</td>\n",
       "      <td>active</td>\n",
       "    </tr>\n",
       "    <tr>\n",
       "      <th>6</th>\n",
       "      <td>56</td>\n",
       "      <td>Divaakar Dutta</td>\n",
       "      <td>dutta_divaakar@dach.name</td>\n",
       "      <td>male</td>\n",
       "      <td>active</td>\n",
       "    </tr>\n",
       "    <tr>\n",
       "      <th>7</th>\n",
       "      <td>58</td>\n",
       "      <td>Bhavani Tandon</td>\n",
       "      <td>tandon_bhavani@weissnat-medhurst.net</td>\n",
       "      <td>male</td>\n",
       "      <td>inactive</td>\n",
       "    </tr>\n",
       "    <tr>\n",
       "      <th>8</th>\n",
       "      <td>59</td>\n",
       "      <td>Ms. Aaditya Gowda</td>\n",
       "      <td>aaditya_ms_gowda@boehm-hessel.net</td>\n",
       "      <td>female</td>\n",
       "      <td>active</td>\n",
       "    </tr>\n",
       "    <tr>\n",
       "      <th>9</th>\n",
       "      <td>60</td>\n",
       "      <td>Mohini Embranthiri</td>\n",
       "      <td>mohini_embranthiri@mckenzie-johns.info</td>\n",
       "      <td>male</td>\n",
       "      <td>inactive</td>\n",
       "    </tr>\n",
       "    <tr>\n",
       "      <th>10</th>\n",
       "      <td>61</td>\n",
       "      <td>Shashi Desai</td>\n",
       "      <td>desai_shashi@herzog-zulauf.net</td>\n",
       "      <td>female</td>\n",
       "      <td>inactive</td>\n",
       "    </tr>\n",
       "    <tr>\n",
       "      <th>11</th>\n",
       "      <td>2173</td>\n",
       "      <td>Miguel Pepito</td>\n",
       "      <td>terSP@testerSP.com</td>\n",
       "      <td>male</td>\n",
       "      <td>active</td>\n",
       "    </tr>\n",
       "    <tr>\n",
       "      <th>12</th>\n",
       "      <td>63</td>\n",
       "      <td>Amrita Shukla</td>\n",
       "      <td>amrita_shukla@welch.biz</td>\n",
       "      <td>female</td>\n",
       "      <td>active</td>\n",
       "    </tr>\n",
       "    <tr>\n",
       "      <th>13</th>\n",
       "      <td>64</td>\n",
       "      <td>Bheeshma Saini</td>\n",
       "      <td>saini_bheeshma@jaskolski.org</td>\n",
       "      <td>male</td>\n",
       "      <td>inactive</td>\n",
       "    </tr>\n",
       "    <tr>\n",
       "      <th>14</th>\n",
       "      <td>65</td>\n",
       "      <td>Subodh Kakkar</td>\n",
       "      <td>kakkar_subodh@beatty.name</td>\n",
       "      <td>female</td>\n",
       "      <td>active</td>\n",
       "    </tr>\n",
       "    <tr>\n",
       "      <th>15</th>\n",
       "      <td>66</td>\n",
       "      <td>Bhoopati Dwivedi</td>\n",
       "      <td>bhoopati_dwivedi@windler.com</td>\n",
       "      <td>male</td>\n",
       "      <td>inactive</td>\n",
       "    </tr>\n",
       "    <tr>\n",
       "      <th>16</th>\n",
       "      <td>67</td>\n",
       "      <td>Rameshwar Achari</td>\n",
       "      <td>achari_rameshwar@wehner-runolfsdottir.co</td>\n",
       "      <td>male</td>\n",
       "      <td>inactive</td>\n",
       "    </tr>\n",
       "    <tr>\n",
       "      <th>17</th>\n",
       "      <td>68</td>\n",
       "      <td>Bhoopat Banerjee</td>\n",
       "      <td>banerjee_bhoopat@mohr.info</td>\n",
       "      <td>female</td>\n",
       "      <td>active</td>\n",
       "    </tr>\n",
       "    <tr>\n",
       "      <th>18</th>\n",
       "      <td>69</td>\n",
       "      <td>Amrita Dutta</td>\n",
       "      <td>amrita_dutta@kris-berge.com</td>\n",
       "      <td>female</td>\n",
       "      <td>inactive</td>\n",
       "    </tr>\n",
       "    <tr>\n",
       "      <th>19</th>\n",
       "      <td>70</td>\n",
       "      <td>Damayanti Bharadwaj</td>\n",
       "      <td>bharadwaj_damayanti@pfeffer-schoen.net</td>\n",
       "      <td>male</td>\n",
       "      <td>active</td>\n",
       "    </tr>\n",
       "  </tbody>\n",
       "</table>\n",
       "</div>"
      ],
      "text/plain": [
       "      id                 name                                     email  \\\n",
       "0   2143                Rahul               docema165sun4o613@gmail.com   \n",
       "1   2144        Miguel Pepito                  testertester1@tester.com   \n",
       "2   2152        Miguel Pepito                       testerSP@tester.com   \n",
       "3   2162        Miguel Pepito                    teesterSP@testerSP.com   \n",
       "4   2166       Usuario PicPay                   AA54usuario01@teste.com   \n",
       "5     54     Bhagavaan Dhawan        dhawan_bhagavaan@miller-doyle.name   \n",
       "6     56       Divaakar Dutta                  dutta_divaakar@dach.name   \n",
       "7     58       Bhavani Tandon      tandon_bhavani@weissnat-medhurst.net   \n",
       "8     59    Ms. Aaditya Gowda         aaditya_ms_gowda@boehm-hessel.net   \n",
       "9     60   Mohini Embranthiri    mohini_embranthiri@mckenzie-johns.info   \n",
       "10    61         Shashi Desai            desai_shashi@herzog-zulauf.net   \n",
       "11  2173        Miguel Pepito                        terSP@testerSP.com   \n",
       "12    63        Amrita Shukla                   amrita_shukla@welch.biz   \n",
       "13    64       Bheeshma Saini              saini_bheeshma@jaskolski.org   \n",
       "14    65        Subodh Kakkar                 kakkar_subodh@beatty.name   \n",
       "15    66     Bhoopati Dwivedi              bhoopati_dwivedi@windler.com   \n",
       "16    67     Rameshwar Achari  achari_rameshwar@wehner-runolfsdottir.co   \n",
       "17    68     Bhoopat Banerjee                banerjee_bhoopat@mohr.info   \n",
       "18    69         Amrita Dutta               amrita_dutta@kris-berge.com   \n",
       "19    70  Damayanti Bharadwaj    bharadwaj_damayanti@pfeffer-schoen.net   \n",
       "\n",
       "    gender    status  \n",
       "0     male    active  \n",
       "1     male    active  \n",
       "2     male    active  \n",
       "3     male    active  \n",
       "4     male    active  \n",
       "5   female    active  \n",
       "6     male    active  \n",
       "7     male  inactive  \n",
       "8   female    active  \n",
       "9     male  inactive  \n",
       "10  female  inactive  \n",
       "11    male    active  \n",
       "12  female    active  \n",
       "13    male  inactive  \n",
       "14  female    active  \n",
       "15    male  inactive  \n",
       "16    male  inactive  \n",
       "17  female    active  \n",
       "18  female  inactive  \n",
       "19    male    active  "
      ]
     },
     "execution_count": 9,
     "metadata": {},
     "output_type": "execute_result"
    }
   ],
   "source": [
    "df = pd.DataFrame(res_dict['data'])\n",
    "df"
   ]
  },
  {
   "cell_type": "code",
   "execution_count": 10,
   "metadata": {},
   "outputs": [],
   "source": [
    "df.to_csv('Customer_data.csv')"
   ]
  },
  {
   "cell_type": "markdown",
   "metadata": {},
   "source": [
    "### Data Analysis"
   ]
  },
  {
   "cell_type": "code",
   "execution_count": 11,
   "metadata": {},
   "outputs": [
    {
     "name": "stdout",
     "output_type": "stream",
     "text": [
      "<class 'pandas.core.frame.DataFrame'>\n",
      "RangeIndex: 20 entries, 0 to 19\n",
      "Data columns (total 5 columns):\n",
      " #   Column  Non-Null Count  Dtype \n",
      "---  ------  --------------  ----- \n",
      " 0   id      20 non-null     int64 \n",
      " 1   name    20 non-null     object\n",
      " 2   email   20 non-null     object\n",
      " 3   gender  20 non-null     object\n",
      " 4   status  20 non-null     object\n",
      "dtypes: int64(1), object(4)\n",
      "memory usage: 928.0+ bytes\n"
     ]
    }
   ],
   "source": [
    "df.info()"
   ]
  },
  {
   "cell_type": "code",
   "execution_count": 12,
   "metadata": {},
   "outputs": [
    {
     "data": {
      "text/html": [
       "<div>\n",
       "<style scoped>\n",
       "    .dataframe tbody tr th:only-of-type {\n",
       "        vertical-align: middle;\n",
       "    }\n",
       "\n",
       "    .dataframe tbody tr th {\n",
       "        vertical-align: top;\n",
       "    }\n",
       "\n",
       "    .dataframe thead th {\n",
       "        text-align: right;\n",
       "    }\n",
       "</style>\n",
       "<table border=\"1\" class=\"dataframe\">\n",
       "  <thead>\n",
       "    <tr style=\"text-align: right;\">\n",
       "      <th></th>\n",
       "      <th>id</th>\n",
       "      <th>name</th>\n",
       "      <th>email</th>\n",
       "      <th>gender</th>\n",
       "      <th>status</th>\n",
       "    </tr>\n",
       "  </thead>\n",
       "  <tbody>\n",
       "    <tr>\n",
       "      <th>count</th>\n",
       "      <td>20.000000</td>\n",
       "      <td>20</td>\n",
       "      <td>20</td>\n",
       "      <td>20</td>\n",
       "      <td>20</td>\n",
       "    </tr>\n",
       "    <tr>\n",
       "      <th>unique</th>\n",
       "      <td>NaN</td>\n",
       "      <td>17</td>\n",
       "      <td>20</td>\n",
       "      <td>2</td>\n",
       "      <td>2</td>\n",
       "    </tr>\n",
       "    <tr>\n",
       "      <th>top</th>\n",
       "      <td>NaN</td>\n",
       "      <td>Miguel Pepito</td>\n",
       "      <td>kakkar_subodh@beatty.name</td>\n",
       "      <td>male</td>\n",
       "      <td>active</td>\n",
       "    </tr>\n",
       "    <tr>\n",
       "      <th>freq</th>\n",
       "      <td>NaN</td>\n",
       "      <td>4</td>\n",
       "      <td>1</td>\n",
       "      <td>13</td>\n",
       "      <td>13</td>\n",
       "    </tr>\n",
       "    <tr>\n",
       "      <th>mean</th>\n",
       "      <td>691.000000</td>\n",
       "      <td>NaN</td>\n",
       "      <td>NaN</td>\n",
       "      <td>NaN</td>\n",
       "      <td>NaN</td>\n",
       "    </tr>\n",
       "    <tr>\n",
       "      <th>std</th>\n",
       "      <td>984.459136</td>\n",
       "      <td>NaN</td>\n",
       "      <td>NaN</td>\n",
       "      <td>NaN</td>\n",
       "      <td>NaN</td>\n",
       "    </tr>\n",
       "    <tr>\n",
       "      <th>min</th>\n",
       "      <td>54.000000</td>\n",
       "      <td>NaN</td>\n",
       "      <td>NaN</td>\n",
       "      <td>NaN</td>\n",
       "      <td>NaN</td>\n",
       "    </tr>\n",
       "    <tr>\n",
       "      <th>25%</th>\n",
       "      <td>60.750000</td>\n",
       "      <td>NaN</td>\n",
       "      <td>NaN</td>\n",
       "      <td>NaN</td>\n",
       "      <td>NaN</td>\n",
       "    </tr>\n",
       "    <tr>\n",
       "      <th>50%</th>\n",
       "      <td>66.500000</td>\n",
       "      <td>NaN</td>\n",
       "      <td>NaN</td>\n",
       "      <td>NaN</td>\n",
       "      <td>NaN</td>\n",
       "    </tr>\n",
       "    <tr>\n",
       "      <th>75%</th>\n",
       "      <td>2143.250000</td>\n",
       "      <td>NaN</td>\n",
       "      <td>NaN</td>\n",
       "      <td>NaN</td>\n",
       "      <td>NaN</td>\n",
       "    </tr>\n",
       "    <tr>\n",
       "      <th>max</th>\n",
       "      <td>2173.000000</td>\n",
       "      <td>NaN</td>\n",
       "      <td>NaN</td>\n",
       "      <td>NaN</td>\n",
       "      <td>NaN</td>\n",
       "    </tr>\n",
       "  </tbody>\n",
       "</table>\n",
       "</div>"
      ],
      "text/plain": [
       "                 id           name                      email gender  status\n",
       "count     20.000000             20                         20     20      20\n",
       "unique          NaN             17                         20      2       2\n",
       "top             NaN  Miguel Pepito  kakkar_subodh@beatty.name   male  active\n",
       "freq            NaN              4                          1     13      13\n",
       "mean     691.000000            NaN                        NaN    NaN     NaN\n",
       "std      984.459136            NaN                        NaN    NaN     NaN\n",
       "min       54.000000            NaN                        NaN    NaN     NaN\n",
       "25%       60.750000            NaN                        NaN    NaN     NaN\n",
       "50%       66.500000            NaN                        NaN    NaN     NaN\n",
       "75%     2143.250000            NaN                        NaN    NaN     NaN\n",
       "max     2173.000000            NaN                        NaN    NaN     NaN"
      ]
     },
     "execution_count": 12,
     "metadata": {},
     "output_type": "execute_result"
    }
   ],
   "source": [
    "df.describe(include='all')"
   ]
  },
  {
   "cell_type": "code",
   "execution_count": 13,
   "metadata": {},
   "outputs": [
    {
     "name": "stdout",
     "output_type": "stream",
     "text": [
      "For column id\n",
      "2143    1\n",
      "63      1\n",
      "65      1\n",
      "66      1\n",
      "67      1\n",
      "2173    1\n",
      "69      1\n",
      "70      1\n",
      "2152    1\n",
      "64      1\n",
      "54      1\n",
      "68      1\n",
      "2162    1\n",
      "2166    1\n",
      "56      1\n",
      "58      1\n",
      "59      1\n",
      "60      1\n",
      "61      1\n",
      "2144    1\n",
      "Name: id, dtype: int64\n",
      "********************************************************************\n",
      "For column name\n",
      "Miguel Pepito          4\n",
      "Rameshwar Achari       1\n",
      "Usuario PicPay         1\n",
      "Mohini Embranthiri     1\n",
      "Divaakar Dutta         1\n",
      "Bhoopat Banerjee       1\n",
      "Subodh Kakkar          1\n",
      "Rahul                  1\n",
      "Bhoopati Dwivedi       1\n",
      "Amrita Dutta           1\n",
      "Bhavani Tandon         1\n",
      "Bheeshma Saini         1\n",
      "Ms. Aaditya Gowda      1\n",
      "Shashi Desai           1\n",
      "Bhagavaan Dhawan       1\n",
      "Damayanti Bharadwaj    1\n",
      "Amrita Shukla          1\n",
      "Name: name, dtype: int64\n",
      "********************************************************************\n",
      "For column email\n",
      "kakkar_subodh@beatty.name                   1\n",
      "achari_rameshwar@wehner-runolfsdottir.co    1\n",
      "aaditya_ms_gowda@boehm-hessel.net           1\n",
      "mohini_embranthiri@mckenzie-johns.info      1\n",
      "amrita_shukla@welch.biz                     1\n",
      "bharadwaj_damayanti@pfeffer-schoen.net      1\n",
      "teesterSP@testerSP.com                      1\n",
      "AA54usuario01@teste.com                     1\n",
      "dutta_divaakar@dach.name                    1\n",
      "desai_shashi@herzog-zulauf.net              1\n",
      "docema165sun4o613@gmail.com                 1\n",
      "saini_bheeshma@jaskolski.org                1\n",
      "testerSP@tester.com                         1\n",
      "tandon_bhavani@weissnat-medhurst.net        1\n",
      "dhawan_bhagavaan@miller-doyle.name          1\n",
      "testertester1@tester.com                    1\n",
      "banerjee_bhoopat@mohr.info                  1\n",
      "terSP@testerSP.com                          1\n",
      "bhoopati_dwivedi@windler.com                1\n",
      "amrita_dutta@kris-berge.com                 1\n",
      "Name: email, dtype: int64\n",
      "********************************************************************\n",
      "For column gender\n",
      "male      13\n",
      "female     7\n",
      "Name: gender, dtype: int64\n",
      "********************************************************************\n",
      "For column status\n",
      "active      13\n",
      "inactive     7\n",
      "Name: status, dtype: int64\n",
      "********************************************************************\n"
     ]
    }
   ],
   "source": [
    "for col in df.columns:\n",
    "    print(f'For column {col}')\n",
    "    print(f'{df[col].value_counts()}')\n",
    "    print(\"********************************************************************\")"
   ]
  },
  {
   "cell_type": "code",
   "execution_count": 14,
   "metadata": {},
   "outputs": [
    {
     "data": {
      "text/plain": [
       "<AxesSubplot:xlabel='gender', ylabel='count'>"
      ]
     },
     "execution_count": 14,
     "metadata": {},
     "output_type": "execute_result"
    },
    {
     "data": {
      "image/png": "[encoded data removed]",
      "text/plain": [
       "<Figure size 576x576 with 1 Axes>"
      ]
     },
     "metadata": {},
     "output_type": "display_data"
    }
   ],
   "source": [
    "sns.countplot(df['gender'])"
   ]
  },
  {
   "cell_type": "code",
   "execution_count": 15,
   "metadata": {},
   "outputs": [
    {
     "data": {
      "text/plain": [
       "<AxesSubplot:xlabel='status', ylabel='count'>"
      ]
     },
     "execution_count": 15,
     "metadata": {},
     "output_type": "execute_result"
    },
    {
     "data": {
      "image/png": "[encoded data removed]",
      "text/plain": [
       "<Figure size 576x576 with 1 Axes>"
      ]
     },
     "metadata": {},
     "output_type": "display_data"
    }
   ],
   "source": [
    "sns.countplot(df['status'])"
   ]
  },
  {
   "cell_type": "code",
   "execution_count": 16,
   "metadata": {},
   "outputs": [
    {
     "data": {
      "text/plain": [
       "<AxesSubplot:xlabel='status', ylabel='count'>"
      ]
     },
     "execution_count": 16,
     "metadata": {},
     "output_type": "execute_result"
    },
    {
     "data": {
      "image/png": "[encoded data removed]",
      "text/plain": [
       "<Figure size 576x576 with 1 Axes>"
      ]
     },
     "metadata": {},
     "output_type": "display_data"
    }
   ],
   "source": [
    "sns.countplot(df['status'],hue=df['gender'])"
   ]
  },
  {
   "cell_type": "code",
   "execution_count": 18,
   "metadata": {},
   "outputs": [],
   "source": [
    "def get_providers(x):\n",
    "    x = x.split('@')\n",
    "    return x[1].split('.')[0]"
   ]
  },
  {
   "cell_type": "code",
   "execution_count": 19,
   "metadata": {},
   "outputs": [],
   "source": [
    "df['providers'] = df['email'].apply(get_providers)"
   ]
  },
  {
   "cell_type": "code",
   "execution_count": 20,
   "metadata": {},
   "outputs": [
    {
     "data": {
      "text/plain": [
       "0                    gmail\n",
       "1                   tester\n",
       "2                   tester\n",
       "3                 testerSP\n",
       "4                    teste\n",
       "5             miller-doyle\n",
       "6                     dach\n",
       "7        weissnat-medhurst\n",
       "8             boehm-hessel\n",
       "9           mckenzie-johns\n",
       "10           herzog-zulauf\n",
       "11                testerSP\n",
       "12                   welch\n",
       "13               jaskolski\n",
       "14                  beatty\n",
       "15                 windler\n",
       "16    wehner-runolfsdottir\n",
       "17                    mohr\n",
       "18              kris-berge\n",
       "19          pfeffer-schoen\n",
       "Name: providers, dtype: object"
      ]
     },
     "execution_count": 20,
     "metadata": {},
     "output_type": "execute_result"
    }
   ],
   "source": [
    "df['providers']"
   ]
  }
 ],
 "metadata": {
  "kernelspec": {
   "display_name": "Python 3",
   "language": "python",
   "name": "python3"
  },
  "language_info": {
   "codemirror_mode": {
    "name": "ipython",
    "version": 3
   },
   "file_extension": ".py",
   "mimetype": "text/x-python",
   "name": "python",
   "nbconvert_exporter": "python",
   "pygments_lexer": "ipython3",
   "version": "3.8.6"
  }
 },
 "nbformat": 4,
 "nbformat_minor": 4
}
