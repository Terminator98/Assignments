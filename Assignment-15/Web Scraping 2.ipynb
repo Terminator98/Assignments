{
 "cells": [
  {
   "cell_type": "markdown",
   "metadata": {},
   "source": [
    "<strong>1- Make database to store the books (title, price, rate)<br>\n",
    "2- Apply web scraping to scrap all books from this website: https://books.toscrape.com/ and save it in the database created before</strong>"
   ]
  },
  {
   "cell_type": "code",
   "execution_count": null,
   "metadata": {},
   "outputs": [],
   "source": [
    "!pip install bs4"
   ]
  },
  {
   "cell_type": "code",
   "execution_count": 1,
   "metadata": {},
   "outputs": [],
   "source": [
    "import requests\n",
    "import json\n",
    "import sqlite3\n",
    "from bs4 import BeautifulSoup\n",
    "import pandas as pd"
   ]
  },
  {
   "cell_type": "code",
   "execution_count": 2,
   "metadata": {},
   "outputs": [
    {
     "data": {
      "text/plain": [
       "<Response [200]>"
      ]
     },
     "execution_count": 2,
     "metadata": {},
     "output_type": "execute_result"
    }
   ],
   "source": [
    "response = requests.get('https://books.toscrape.com/')\n",
    "response"
   ]
  },
  {
   "cell_type": "code",
   "execution_count": 3,
   "metadata": {},
   "outputs": [],
   "source": [
    "soup = BeautifulSoup(response.text, 'html.parser')\n",
    "connection = sqlite3.connect('books.db')\n",
    "sql_comm = (\"INSERT INTO books (Title,Price,Rate) VALUES (?,?,?)\")\n",
    "\n",
    "RATING_MAP = {\"One\": 1, \"Two\": 2, \"Three\": 3, \"Four\": 4, \"Five\": 5}\n",
    "\n",
    "for article in soup.find_all('article', attrs={'class': 'product_pod'}):\n",
    "    title = article.find('h3').find('a').attrs['title']\n",
    "    price = float(article.find('p', attrs={'class': 'price_color'}).get_text().split('£')[-1])\n",
    "    rate = RATING_MAP[article.find('p').attrs['class'][-1]]\n",
    "    data = [title,price,rate]\n",
    "    \n",
    "    connection.execute(sql_comm, data)\n",
    "    connection.commit()\n",
    "    \n",
    "connection.close()"
   ]
  }
 ],
 "metadata": {
  "kernelspec": {
   "display_name": "Python 3",
   "language": "python",
   "name": "python3"
  },
  "language_info": {
   "codemirror_mode": {
    "name": "ipython",
    "version": 3
   },
   "file_extension": ".py",
   "mimetype": "text/x-python",
   "name": "python",
   "nbconvert_exporter": "python",
   "pygments_lexer": "ipython3",
   "version": "3.8.6"
  }
 },
 "nbformat": 4,
 "nbformat_minor": 4
}
