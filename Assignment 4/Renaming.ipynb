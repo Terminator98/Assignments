{
 "cells": [
  {
   "cell_type": "markdown",
   "metadata": {},
   "source": [
    "## Renaming Assignment\n",
    "## Name: Mohammad Ashraf"
   ]
  },
  {
   "cell_type": "code",
   "execution_count": 1,
   "metadata": {},
   "outputs": [],
   "source": [
    "import os\n",
    "import random\n",
    "import string"
   ]
  },
  {
   "cell_type": "code",
   "execution_count": 2,
   "metadata": {},
   "outputs": [
    {
     "data": {
      "text/plain": [
       "['aAkHK.jpg',\n",
       " 'aANdu.jpg',\n",
       " 'AchSs.jpg',\n",
       " 'ajqbQ.jpg',\n",
       " 'awlvK.jpg',\n",
       " 'BEpkq.jpg',\n",
       " 'BHWsn.jpg',\n",
       " 'bnkpF.jpg',\n",
       " 'clUAf.jpg',\n",
       " 'cPbTg.jpg',\n",
       " 'Cxgdy.jpg',\n",
       " 'dCaly.jpg',\n",
       " 'FEwmn.jpg',\n",
       " 'fPvQt.jpg',\n",
       " 'FrOjE.jpg',\n",
       " 'griNd.jpg',\n",
       " 'HGsyE.jpg',\n",
       " 'Hzppg.jpg',\n",
       " 'ihfzv.jpg',\n",
       " 'IihpL.jpg',\n",
       " 'JtjjI.jpg',\n",
       " 'kvBpI.jpg',\n",
       " 'mGAsS.jpg',\n",
       " 'MtFuD.jpg',\n",
       " 'MUoCy.jpg',\n",
       " 'MZJEU.jpg',\n",
       " 'nFEiu.jpg',\n",
       " 'nnruQ.jpg',\n",
       " 'oUuUv.jpg',\n",
       " 'pkgxF.jpg',\n",
       " 'QLKeL.jpg',\n",
       " 'RaCIr.jpg',\n",
       " 'RCrcE.jpg',\n",
       " 'SDrcK.jpg',\n",
       " 'SiVRR.jpg',\n",
       " 'SwUIb.jpg',\n",
       " 'tATCK.jpg',\n",
       " 'tjqbb.jpg',\n",
       " 'tTqTq.jpg',\n",
       " 'ufPmJ.jpg',\n",
       " 'uigfu.jpg',\n",
       " 'VgxOu.jpg',\n",
       " 'VOjxR.jpg',\n",
       " 'vQFPO.jpg',\n",
       " 'WaGHY.jpg',\n",
       " 'xUUlB.jpg',\n",
       " 'xZLMi.jpg',\n",
       " 'YfLsd.jpg',\n",
       " 'YiIoc.jpg',\n",
       " 'yteNv.jpg']"
      ]
     },
     "execution_count": 2,
     "metadata": {},
     "output_type": "execute_result"
    }
   ],
   "source": [
    "file_names = os.listdir('./Renamed/')\n",
    "file_names"
   ]
  },
  {
   "cell_type": "code",
   "execution_count": 3,
   "metadata": {},
   "outputs": [
    {
     "data": {
      "text/plain": [
       "'abcdefghijklmnopqrstuvwxyzABCDEFGHIJKLMNOPQRSTUVWXYZ'"
      ]
     },
     "execution_count": 3,
     "metadata": {},
     "output_type": "execute_result"
    }
   ],
   "source": [
    "new_names = string.ascii_letters  \n",
    "new_names"
   ]
  },
  {
   "cell_type": "code",
   "execution_count": 4,
   "metadata": {},
   "outputs": [],
   "source": [
    "for name in file_names:\n",
    "    random_letters = ''.join(random.choice(new_names) for i in range(5)) + '.jpg'\n",
    "    os.rename(f'./Renamed/{name}',f'./Renamed/{random_letters}')"
   ]
  }
 ],
 "metadata": {
  "kernelspec": {
   "display_name": "Python 3",
   "language": "python",
   "name": "python3"
  },
  "language_info": {
   "codemirror_mode": {
    "name": "ipython",
    "version": 3
   },
   "file_extension": ".py",
   "mimetype": "text/x-python",
   "name": "python",
   "nbconvert_exporter": "python",
   "pygments_lexer": "ipython3",
   "version": "3.8.3"
  }
 },
 "nbformat": 4,
 "nbformat_minor": 4
}
